{
  "nbformat": 4,
  "nbformat_minor": 0,
  "metadata": {
    "colab": {
      "provenance": [],
      "include_colab_link": true
    },
    "kernelspec": {
      "name": "python3",
      "display_name": "Python 3"
    },
    "language_info": {
      "name": "python"
    }
  },
  "cells": [
    {
      "cell_type": "markdown",
      "metadata": {
        "id": "view-in-github",
        "colab_type": "text"
      },
      "source": [
        "<a href=\"https://colab.research.google.com/github/Shubhamjog7/campusx/blob/main/python/session_1_tasks.ipynb\" target=\"_parent\"><img src=\"https://colab.research.google.com/assets/colab-badge.svg\" alt=\"Open In Colab\"/></a>"
      ]
    },
    {
      "cell_type": "markdown",
      "source": [
        "# Task : Session 1\n",
        "Solve these questions own your own and try to test yourself what you have learned in the session.\n",
        "\n",
        "Happy Learning!"
      ],
      "metadata": {
        "id": "A05OG15VqOPF"
      }
    },
    {
      "cell_type": "markdown",
      "source": [
        "### Q1 :- Print the given strings as per stated format.\n",
        "\n",
        "**Given strings**:\n",
        "```\n",
        "\"Data\" \"Science\" \"Mentorship\" \"Program\"\n",
        "\"By\" \"CampusX\"\n",
        "```\n",
        "**Output**:\n",
        "```\n",
        "Data-Science-Mentorship-Program-started-By-CampusX\n",
        "```\n",
        "\n",
        "Concept- [Seperator and End]"
      ],
      "metadata": {
        "id": "2doIXf8bqe9_"
      }
    },
    {
      "cell_type": "code",
      "source": [
        "print(\"Data\",\"Science\",\"Mentorship\",\"Program\",sep = \"-\",end =\"-started-\")\n",
        "print(\"By\",\"CampusX\",sep = \"-\")"
      ],
      "metadata": {
        "id": "-em6d3KErDtp",
        "colab": {
          "base_uri": "https://localhost:8080/"
        },
        "outputId": "875cfd41-7138-43bd-8044-dd8b6d8946d4"
      },
      "execution_count": 54,
      "outputs": [
        {
          "output_type": "stream",
          "name": "stdout",
          "text": [
            "Data-Science-Mentorship-Program-started-By-CampusX\n"
          ]
        }
      ]
    },
    {
      "cell_type": "markdown",
      "source": [
        "### Q2:- Write a program that will convert celsius value to fahrenheit."
      ],
      "metadata": {
        "id": "1KUpN7ZTrC3_"
      }
    },
    {
      "cell_type": "code",
      "source": [
        "n=float(input(\"Add Celsius \"))\n",
        "\n",
        "f= (n*(9/5))+32\n",
        "print(\"Fahrenheit is\",f)"
      ],
      "metadata": {
        "id": "yxKYhYQiqWfj",
        "colab": {
          "base_uri": "https://localhost:8080/"
        },
        "outputId": "d8647d1b-d36c-4aeb-ae8f-3c653d941e29"
      },
      "execution_count": 6,
      "outputs": [
        {
          "output_type": "stream",
          "name": "stdout",
          "text": [
            "Add Celsius 32\n",
            "Fahrenheit is 89.6\n"
          ]
        }
      ]
    },
    {
      "cell_type": "markdown",
      "source": [
        "### Q3:- Take 2 numbers as input from the user.Write a program to swap the numbers without using any special python syntax."
      ],
      "metadata": {
        "id": "RLrOBBJurLB2"
      }
    },
    {
      "cell_type": "code",
      "source": [
        "a=int(input(\"First Number before swap: \"))\n",
        "b=int(input(\"Second Number before swap: \"))\n",
        "\n",
        "c=a\n",
        "a=b\n",
        "b=c\n",
        "print(\"First Number after swap: \",a)\n",
        "print(\"Second Number after swap: \",b)\n"
      ],
      "metadata": {
        "id": "yPn7if0TrJ4F",
        "colab": {
          "base_uri": "https://localhost:8080/"
        },
        "outputId": "89e96e15-28a0-44de-eaf4-aa5ee5c45b62"
      },
      "execution_count": 7,
      "outputs": [
        {
          "output_type": "stream",
          "name": "stdout",
          "text": [
            "First Number before swap: 2\n",
            "Second Number before swap: 3\n",
            "First Number after swap:  3\n",
            "Second Number after swap:  2\n"
          ]
        }
      ]
    },
    {
      "cell_type": "markdown",
      "source": [
        "### Q4:- Write a program to find the euclidean distance between two coordinates.Take both the coordinates from the user as input."
      ],
      "metadata": {
        "id": "waLCP1bjr7ML"
      }
    },
    {
      "cell_type": "code",
      "source": [
        "x = float(input())\n",
        "y = float(input())\n",
        "a = float(input())\n",
        "b = float(input())\n",
        "\n",
        "y=(((x-a)**2)+(y-b)**2)**(0.5)\n",
        "print(\"distance between coordinates is: \",y)\n"
      ],
      "metadata": {
        "id": "Pl1Sv-xnrxnH",
        "colab": {
          "base_uri": "https://localhost:8080/"
        },
        "outputId": "2752ed5d-19c3-4fb9-9338-3058b455d1f6"
      },
      "execution_count": 10,
      "outputs": [
        {
          "output_type": "stream",
          "name": "stdout",
          "text": [
            "-9\n",
            "-5\n",
            "6\n",
            "7\n",
            "distance between coordinates is:  19.209372712298546\n"
          ]
        }
      ]
    },
    {
      "cell_type": "markdown",
      "source": [
        "### Q5:- Write a program to find the simple interest when the value of principle,rate of interest and time period is provided by the user.\n"
      ],
      "metadata": {
        "id": "VLrhg-FRsHjR"
      }
    },
    {
      "cell_type": "code",
      "source": [
        "p = float(input())\n",
        "r = float(input())\n",
        "t = float(input())\n",
        "\n",
        "si = (p*r*t)/100\n",
        "\n",
        "print(\"simple interest is: \",si)"
      ],
      "metadata": {
        "id": "s40DlReZsTmY",
        "colab": {
          "base_uri": "https://localhost:8080/"
        },
        "outputId": "c513efc6-ed05-4ceb-b5f1-f103bc35d231"
      },
      "execution_count": 11,
      "outputs": [
        {
          "output_type": "stream",
          "name": "stdout",
          "text": [
            "500\n",
            "6.5\n",
            "8\n",
            "simple interest is:  260.0\n"
          ]
        }
      ]
    },
    {
      "cell_type": "markdown",
      "source": [
        "### Q6:- Write a program that will tell the number of dogs and chicken are there when the user will provide the value of total heads and legs.\n",
        "\n",
        "For example:\n",
        "Input:\n",
        "heads -> 4\n",
        "legs -> 12\n",
        "<br>\n",
        "Output:\n",
        "dogs -> 2\n",
        "chicken -> 2\n",
        "\n",
        "\n",
        "\n"
      ],
      "metadata": {
        "id": "LMy0BTUktYKa"
      }
    },
    {
      "cell_type": "code",
      "source": [
        "h = int(input())\n",
        "l = int(input())\n",
        "\n",
        "if l % 2 !=0 or h ==0 or h > l:\n",
        "  print(\"invalid case\")\n",
        "else:\n",
        "  chicken = (4*h-l)/2\n",
        "  dogs = (h-chicken)\n",
        "  print(\"total chicks: \",chicken)\n",
        "  print(\"total dogs: \",dogs)"
      ],
      "metadata": {
        "id": "XSBvJoA4tXaG",
        "colab": {
          "base_uri": "https://localhost:8080/"
        },
        "outputId": "77799225-903b-42b9-8d99-205604a3f592"
      },
      "execution_count": 57,
      "outputs": [
        {
          "output_type": "stream",
          "name": "stdout",
          "text": [
            "7\n",
            "9\n",
            "invalid case\n"
          ]
        }
      ]
    },
    {
      "cell_type": "markdown",
      "source": [
        "8### Q7:- Write a program to find the sum of squares of first n natural numbers where n will be provided by the user."
      ],
      "metadata": {
        "id": "gJ7C5kZYt4BP"
      }
    },
    {
      "cell_type": "code",
      "source": [
        "n =int(input())\n",
        "sum =0\n",
        "for i in range(0,n+1):\n",
        "    sum += i*i\n",
        "print(sum)"
      ],
      "metadata": {
        "id": "_tHsmEHzt2nX",
        "colab": {
          "base_uri": "https://localhost:8080/"
        },
        "outputId": "300d29fe-15dc-4b8a-eadc-da95f4661792"
      },
      "execution_count": 37,
      "outputs": [
        {
          "output_type": "stream",
          "name": "stdout",
          "text": [
            "3\n",
            "14\n"
          ]
        }
      ]
    },
    {
      "cell_type": "markdown",
      "source": [
        "### Q8:- Given the first 2 terms of an Arithmetic Series.Find the Nth term of the series. Assume all inputs are provided by the user."
      ],
      "metadata": {
        "id": "FHrMM7g-yG1h"
      }
    },
    {
      "cell_type": "code",
      "source": [
        "ft = int(input(\"first term\"))\n",
        "st = int(input(\"second term\"))\n",
        "n  = int(input(\"number of terms\"))\n",
        "\n",
        "d = st - ft\n",
        "\n",
        "nth = ft + (n-1)*d\n",
        "\n",
        "print(nth)\n",
        "\n"
      ],
      "metadata": {
        "id": "go4_kmZmyVSx",
        "colab": {
          "base_uri": "https://localhost:8080/"
        },
        "outputId": "e3d2ee8f-a0a5-48cc-da6f-2b9f64210b0c"
      },
      "execution_count": 41,
      "outputs": [
        {
          "output_type": "stream",
          "name": "stdout",
          "text": [
            "first term2\n",
            "second term4\n",
            "number of terms3\n",
            "6\n"
          ]
        }
      ]
    },
    {
      "cell_type": "markdown",
      "source": [
        "### Q9:- Given 2 fractions, find the sum of those 2 fractions.Take the numerator and denominator values of the fractions from the user."
      ],
      "metadata": {
        "id": "QgyRX_es1oum"
      }
    },
    {
      "cell_type": "code",
      "source": [
        "n1 = int(input())\n",
        "d1 = int(input())\n",
        "n2 = int(input())\n",
        "d2 = int(input())\n",
        "\n",
        "if d1 == d2:\n",
        "  cd = d1\n",
        "  num_sum =(n1 + n2)\n",
        "  print(num_sum, \"/\", cd)\n",
        "else:\n",
        "  cd = d1 * d2\n",
        "  num_sum = n1 * d2 + n2 * d1\n",
        "  print(num_sum, \"/\", cd)\n",
        "\n"
      ],
      "metadata": {
        "id": "X05xqFS1yW16",
        "colab": {
          "base_uri": "https://localhost:8080/"
        },
        "outputId": "6e265868-8cd5-4a66-9266-9abe34c8e816"
      },
      "execution_count": 47,
      "outputs": [
        {
          "output_type": "stream",
          "name": "stdout",
          "text": [
            "2\n",
            "3\n",
            "4\n",
            "5\n",
            "22 / 15\n"
          ]
        }
      ]
    },
    {
      "cell_type": "markdown",
      "source": [
        "### Q10:- Given the height, width and breadth of a milk tank, you have to find out how many glasses of milk can be obtained? Assume all the inputs are provided by the user.\n",
        "\n",
        "\n",
        "\n",
        "Input:<br>\n",
        "Dimensions of the milk tank<br>\n",
        "H = 20cm, L = 20cm, B = 20cm\n",
        "<br><br>\n",
        "Dimensions of the glass<br>\n",
        "h = 3cm, r = 1cm"
      ],
      "metadata": {
        "id": "eaql38ln13u7"
      }
    },
    {
      "cell_type": "code",
      "source": [
        "H = int(input())\n",
        "L = int(input())\n",
        "B = int(input())\n",
        "\n",
        "r = int(input())\n",
        "h = int(input())\n",
        "\n",
        "vol_t = H*L*B\n",
        "\n",
        "vol_g = 3.14*(r*r)*h\n",
        "\n",
        "no_of_glasses = vol_t/vol_g\n",
        "\n",
        "print(round(no_of_glasses))\n",
        "\n"
      ],
      "metadata": {
        "id": "FePZqno74eWv",
        "colab": {
          "base_uri": "https://localhost:8080/"
        },
        "outputId": "ce86d3bb-b341-45b9-ec82-c20c1c63165f"
      },
      "execution_count": 50,
      "outputs": [
        {
          "output_type": "stream",
          "name": "stdout",
          "text": [
            "20\n",
            "20\n",
            "20\n",
            "1\n",
            "3\n",
            "849\n"
          ]
        }
      ]
    },
    {
      "cell_type": "code",
      "source": [],
      "metadata": {
        "id": "yVMrQxotE4MV"
      },
      "execution_count": null,
      "outputs": []
    }
  ]
}